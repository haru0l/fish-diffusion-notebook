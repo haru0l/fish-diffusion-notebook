{
  "cells": [
    {
      "cell_type": "markdown",
      "metadata": {
        "id": "qI-wDbQDmSjx"
      },
      "source": [
        "This is the basic version of the notebook. This notebook assumes that you have READ the documentation and no support will be given."
      ]
    },
    {
      "cell_type": "markdown",
      "metadata": {
        "id": "MGNHNSGcEFHj"
      },
      "source": [
        "# Preparation"
      ]
    },
    {
      "cell_type": "code",
      "execution_count": null,
      "metadata": {
        "id": "IYxufeQ9EKuY",
        "cellView": "form"
      },
      "outputs": [],
      "source": [
        "#@title #Install Fish-Diffusion\n",
        "#@markdown The stuff you'll need for every other thing afterwards.\n",
        "from IPython.display import clear_output\n",
        "import os\n",
        "!rm -rf /content/sample_data\n",
        "\n",
        "#install python 3.10 and dev utils\n",
        "#you may not need all the dev libraries, but I haven't tested which aren't necessary.\n",
        "!sudo apt-get update -y\n",
        "!sudo apt-get install python3.10 python3.10-dev python3.10-distutils libpython3.10-dev\n",
        "\n",
        "#change alternatives\n",
        "!sudo update-alternatives --install /usr/bin/python3 python3 /usr/bin/python3.7 1\n",
        "!sudo update-alternatives --install /usr/bin/python3 python3 /usr/bin/python3.10 2\n",
        "\n",
        "# install pip\n",
        "!curl https://bootstrap.pypa.io/get-pip.py -o get-pip.py\n",
        "!python3 get-pip.py --force-reinstall\n",
        "\n",
        "#install colab's dependencies\n",
        "!python3 -m pip install ipython ipython_genutils ipykernel jupyter_console prompt_toolkit httplib2 astor protobuf\n",
        "\n",
        "# link to the old google package\n",
        "!ln -s /usr/local/lib/python3.7/dist-packages/google \\\n",
        "       /usr/local/lib/python3.10/dist-packages/google\n",
        "\n",
        "!git clone https://github.com/fishaudio/fish-diffusion\n",
        "\n",
        "!python -m pip install --upgrade pip wheel\n",
        "!pip install -q --pre poetry\n",
        "\n",
        "%cd fish-diffusion\n",
        "!wget https://github.com/haru0l/Diff-SVC-notebooks/releases/download/start/hifigan_44k.zip\n",
        "!unzip -o hifigan_44k.zip -d checkpoints\n",
        "!poetry install\n",
        "!pip install tensorboard<2.9,>=2.8 --quiet\n",
        "!python -m pip install .\n",
        "count = -1"
      ]
    },
    {
      "cell_type": "markdown",
      "source": [
        "You are now expected to extract the wavs"
      ],
      "metadata": {
        "id": "ETBMO6uWHZAZ"
      }
    },
    {
      "cell_type": "code",
      "execution_count": null,
      "metadata": {
        "id": "wsHTxKEO-ZwV",
        "cellView": "form"
      },
      "outputs": [],
      "source": [
        "#@title #Pre-processing\n",
        "#@markdown This just converts your data into mel spectograms\n",
        "\n",
        "!python tools/preprocessing/extract_features.py --config configs/svc_hubert_soft.py --path dataset --clean\n",
        "\n",
        "!python tools/preprocessing/generate_stats.py --input-dir dataset/train --output-file dataset/stats.json"
      ]
    },
    {
      "cell_type": "code",
      "source": [
        "#@title #Tensorboard (run before step 5)\n",
        "#@markdown Shows training progress, go to the top right corner to set it to update the logs.\n",
        "\n",
        "import datetime, os\n",
        "count += 1\n",
        "%load_ext tensorboard\n",
        "%tensorboard --load_fast=true --reload_interval=1 --reload_multifile=true --logdir=logs/DiffSVC/version_{count}"
      ],
      "metadata": {
        "cellView": "form",
        "id": "CJVSLVGzh0FY"
      },
      "execution_count": null,
      "outputs": []
    },
    {
      "cell_type": "code",
      "execution_count": null,
      "metadata": {
        "cellView": "form",
        "id": "NvlB1oCR_lxh"
      },
      "outputs": [],
      "source": [
        "#@title #Training\n",
        "#@markdown Trains your model. Logs are shown in tensorboard, however\n",
        "\n",
        "os.environ['PYTHONPATH']='.'\n",
        "\n",
        "!CUDA_VISIBLE_DEVICES=0 python train.py --config configs/svc_hubert_soft.py --tensorboard"
      ]
    }
  ],
  "metadata": {
    "accelerator": "GPU",
    "colab": {
      "provenance": []
    },
    "gpuClass": "standard",
    "kernelspec": {
      "display_name": "Python 3",
      "name": "python3"
    },
    "language_info": {
      "name": "python"
    }
  },
  "nbformat": 4,
  "nbformat_minor": 0
}
